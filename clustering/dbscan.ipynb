{
 "cells": [
  {
   "cell_type": "markdown",
   "id": "8fe51785",
   "metadata": {},
   "source": [
    "## DBSCAN density based spatial clustering of application with noise\n",
    "\n",
    "#### 2 paramètres clés :\n",
    "- ε : rayon maximal pour considérer un point comme voisin\n",
    "- minPts : nombre minimum de voisins pour être un point central\n",
    "\n",
    "\n",
    "\n",
    "#### 3 types de points\n",
    "Selon les propriétés de leur voisinage :\n",
    "- <font color=\"red\">Centroïdes (core points)</font>\n",
    "se trouvent au cœur d’un groupe\n",
    "leur voisinage doit contenir  ≥  minPts\n",
    "- <font color=\"orange\">Points frontière (border points)</font>\n",
    "bordent un groupe\n",
    "ne sont pas centroïde mais voisins d’un centroïde\n",
    "- <font color=\"blue\">Points aberrants (noise points)</font>\n",
    "ils ne sont ni centroïde, ni frontière\n",
    "\n",
    "<img src=\"../img//clustering/dbcscan_points.png\" width=\"500\">\n",
    "\n",
    "Définit un ε-voisinage autour de chaque observation x\n",
    "\n",
    "Pour chaque point x :\n",
    "      - Si x à u nombre de voisins ≥ à minPts dans un rayon ε \n",
    "      - ➤ x devient un centroïde\n",
    "\n",
    "Sélectionne un centroïde au hasard, tous ses voisins sont examinés :\n",
    "- Voisin centroïde ➤ agrandit le cluster avec son propre voisinage\n",
    "- Voisin non centroïde ➤ rejoint le cluster, mais ne l’agrandit pas\n",
    "- Sinon, x est marqué comme bruit (provisoirement)\n",
    "- Répéter jusqu’à ce que tous les points soient traités\n",
    "\n",
    "<img src=\"../img//clustering/dbscan_voisinage.png\" width=\"300\">\n"
   ]
  },
  {
   "cell_type": "markdown",
   "id": "4ed2eb12",
   "metadata": {},
   "source": [
    "\n",
    "Soit un ensemble de points :<br>\n",
    "<img src=\"../img//clustering/dbscan_points.png\" width=\"200\">\n",
    "\n",
    "1. Détection des centroïdes et des non centroïdes :<br>\n",
    "<span style=\"display: inline-block;\">\n",
    "  <img src=\"../img//clustering/dbscan_core.png\" width=\"200\">\n",
    "</span>\n",
    "<span style=\"display: inline-block;\">\n",
    "  <img src=\"../img//clustering/dbscan_non-core.png\" width=\"200\">\n",
    "</span>\n",
    "<br>\n",
    "<span style=\"display: inline-block;\">\n",
    "  <img src=\"../img//clustering/dbscan_cores.png\" width=\"200\">\n",
    "</span>\n",
    "<span style=\"display: inline-block;\">\n",
    "  <img src=\"../img//clustering/dbscan_non-cores.png\" width=\"200\">\n",
    "</span>\n",
    "\n",
    "\n",
    "2. Sélection aléatoire d’un centroïde\n",
    "extension du cluster selon le voisinage<br>\n",
    "<span style=\"display: inline-block;\">\n",
    "  <img src=\"../img//clustering/dbscan_1.png\" width=\"200\">\n",
    "</span>\n",
    "<span style=\"display: inline-block;\">\n",
    "  <img src=\"../img//clustering/dbscan_2.png\" width=\"200\">\n",
    "</span>\n",
    "<span style=\"display: inline-block;\">\n",
    "  <img src=\"../img//clustering/dbscan_2.5.png\" width=\"200\">\n",
    "</span>\n",
    "<span style=\"display: inline-block;\">\n",
    "  <img src=\"../img//clustering/dbscan_3.png\" width=\"200\">\n",
    "</span>\n",
    "<br>"
   ]
  },
  {
   "cell_type": "markdown",
   "id": "07453e5d",
   "metadata": {},
   "source": [
    "Les voisins <font color=\"red\">centroïdes</font> rejoignent et agrandissent le cluster avec leurs ε-voisinages respectifs<br>\n",
    "Tous les voisins<font color=\"red\">centroïdes</font> rejoignent le cluster<br>\n",
    "<span style=\"display: inline-block;\">\n",
    "  <img src=\"../img//clustering/dbscan_4.png\" width=\"200\">\n",
    "</span>\n",
    "<span style=\"display: inline-block;\">\n",
    "  <img src=\"../img//clustering/dbscan_5.png\" width=\"200\">\n",
    "</span>\n",
    "<span style=\"display: inline-block;\">\n",
    "  <img src=\"../img//clustering/dbscan_5.5.png\" width=\"200\">\n",
    "</span>\n",
    "<span style=\"display: inline-block;\">\n",
    "  <img src=\"../img//clustering/dbscan_6.png\" width=\"200\">\n",
    "</span>\n",
    "<br>\n"
   ]
  },
  {
   "cell_type": "markdown",
   "id": "76fa1f72",
   "metadata": {},
   "source": [
    "3. les voisins <font color=\"red\">non centroïdes</font> rejoignent le cluster sans leur voisinage<br>\n",
    "<span style=\"display: inline-block;\">\n",
    "  <img src=\"../img//clustering/dbscan_7.png\" width=\"200\">\n",
    "</span>\n",
    "<span style=\"display: inline-block;\">\n",
    "  <img src=\"../img//clustering/dbscan_8.png\" width=\"200\">\n",
    "</span>"
   ]
  },
  {
   "cell_type": "markdown",
   "id": "a883c0ec",
   "metadata": {},
   "source": [
    "4. les <font color=\"red\">centroïdes éloignés</font> du premier cluster créent un autre cluster<br>\n",
    "<span style=\"display: inline-block;\">\n",
    "  <img src=\"../img//clustering/dbscan_9.png\" width=\"200\">\n",
    "</span>\n",
    "<span style=\"display: inline-block;\">\n",
    "  <img src=\"../img//clustering/dbscan_10.png\" width=\"200\">\n",
    "</span><br>\n",
    "bis repetita"
   ]
  },
  {
   "cell_type": "markdown",
   "id": "c7d9952e",
   "metadata": {},
   "source": [
    "5. Les <font color=\"red\">points restants</font> sont qualifiés d’outliers<br>\n",
    "<img src=\"../img//clustering/dbscan_11.png\" width=\"200\">"
   ]
  },
  {
   "cell_type": "markdown",
   "id": "ba3011a7",
   "metadata": {},
   "source": [
    "\n",
    "\n",
    "#### ε : rayon de voisinage\n",
    "- ε trop faible : nombreux groupes de petite taille\n",
    "-  trop élevé : un unique groupe<br>\n",
    "\n",
    "<img src=\"../img//clustering/dbscan_voisinage_2.png\" width=\"500\">\n"
   ]
  },
  {
   "cell_type": "markdown",
   "id": "a975b41a",
   "metadata": {},
   "source": [
    "\n",
    "#### Limite :\n",
    "Gérer mal les clusters de densité différente et les données à dimensions élevées.\n",
    "considère que la densité est identique pour tous les groupes\n",
    "\n",
    "En cas de densité variable, il est impossible de trouver un unique seuil ε qui définit un voisinage adapté\n",
    "\n",
    "en conséquences, les données dans des régions à faible densité sont automatiquement éliminées en tant que données aberrantes<br>\n",
    "\n",
    "<img src=\"../img//clustering/dbscan_limite.png\" width=\"300\">"
   ]
  },
  {
   "cell_type": "markdown",
   "id": "6798a2f7",
   "metadata": {},
   "source": []
  },
  {
   "cell_type": "markdown",
   "id": "12b5fd9e",
   "metadata": {},
   "source": []
  }
 ],
 "metadata": {
  "language_info": {
   "name": "python"
  }
 },
 "nbformat": 4,
 "nbformat_minor": 5
}
