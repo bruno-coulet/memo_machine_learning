{
 "cells": [
  {
   "cell_type": "markdown",
   "id": "e2b0f924",
   "metadata": {
    "vscode": {
     "languageId": "plaintext"
    }
   },
   "source": [
    "## K-Means Clustering\n",
    "\n",
    "Algorithme itératif en 2 étapes\n",
    "1. affectation des points des données au centroïd le plus proche\n",
    "2. déplacement du centroïd à la moyenne du cluster\n",
    "\n",
    "- On place k points (centroïds) au hasard parmis les données\n",
    "\n",
    "<img src=\"../img//clustering/k-means.png\" width=\"300px\">\n",
    "\n",
    "- Chaque point du dataset est affecté au centroïd le plus proche, cela crée k clusters\n",
    "\n",
    "<img src=\"../img//clustering/k-means_1.png\" width=\"300px\">\n",
    "\n",
    "- Le centroïd est déplacé au milieu du cluster (la moyenne des points)\n",
    "\n",
    "<img src=\"../img//clustering/k-means_2.png\" width=\"300px\">\n",
    "\n",
    "Et on recommence jusqu'a ce que les centroïds convergent vers le point d'équilibre\n",
    "\n",
    "**Probleme :**\n",
    "Selon leur position initial, il est possible que les centroïds convergent vers une mauvaise position\n",
    "\n",
    "**Solution :**\n",
    "- Lancer l'algo plusieurs fois en modifiant à chaque fois la position initial des centroïds\n",
    "- calculer la somme des distances entres les points et les centroïds\n",
    "\n",
    "<img src=\"../img//clustering/k-means_3.png\" width=\"500px\">\n",
    "\n",
    "\n",
    "Cherche la position des centres qui minimisent l'inertia\n",
    "la distance entre les points d'un cluster $(x_i)$ et son centre $(\\mu_j)$\n",
    "\n",
    "<img src=\"../img//clustering/inertia.png\" width=\"300px\">\n",
    "\n",
    "\n",
    "En gros, on cherche à minimiser la variance\n",
    "\n",
    "N'est pas bon sur les clusters non convexes et aniosotropes\n",
    "<img src=\"img//clustering/anisotrope.png\" width=\"300px\">"
   ]
  },
  {
   "cell_type": "code",
   "execution_count": null,
   "id": "e59dcf18",
   "metadata": {},
   "outputs": [],
   "source": [
    "from sklearn.cluster import KMeans\n",
    "import matplotlib.pyplot as plt"
   ]
  },
  {
   "cell_type": "code",
   "execution_count": null,
   "id": "2eccaacf",
   "metadata": {},
   "outputs": [],
   "source": [
    "model = KMeans(n_cluster=3)\n",
    "model.fit(X)\n",
    "# affiche le classement des échantillons option 1\n",
    "model.labels_\n",
    "# affiche le classement des échantillons option 2\n",
    "model.predict(X)\n",
    "# Affiche les données avec une couleur par cluster\n",
    "plt.scatter(X[:,0], X[:,1], c=model.predict(X))\n",
    "# coordonnées des centroïds\n",
    "model.cluster_centers_\n",
    "# affiche les centroïds\n",
    "plt.scatter(model.cluster_centers_[:,0], model.cluster_centers_[:,1], c='r')\n",
    "# somme des distances entre les point et les centroids\n",
    "model.inertia_\n",
    "# somme des distances entre les point et les centroids (en négatif)\n",
    "model.score(X)"
   ]
  },
  {
   "cell_type": "markdown",
   "id": "1d6ab997",
   "metadata": {
    "vscode": {
     "languageId": "plaintext"
    }
   },
   "source": [
    "### hyper-Paramètres\n",
    "- n_clusters : nombre de clusters\n",
    "- n_init=10 : nombre d'exécution (10)\n",
    "- max_iter : nombre d'itération (300)\n",
    "- init : type d'initialisation (k-means++)\n",
    "### Méthodes :\n",
    "- fit(X) : exécute l'algo\n",
    "- predict(X) : centroïd le plus proche de X\n",
    "- score(X) : calcul de l'inertia (négatif)\n",
    "### Attributs :\n",
    "- cluster_centers_ : position des centroïds\n",
    "- labels_ : équivalent de predict(X_train)\n",
    "- inertia_ : calcul de l'inertia (positif)"
   ]
  },
  {
   "cell_type": "markdown",
   "id": "a1305b21",
   "metadata": {},
   "source": [
    "### Comment choisir le bon nombre de cluster ?\n",
    "\n",
    "**elbow method**\n",
    "évolution du coût du model en fonction du nombre de cluster\n",
    "<img src=\"img//clustering/elbow.png\" width=400>"
   ]
  },
  {
   "cell_type": "code",
   "execution_count": null,
   "id": "a6fb3025",
   "metadata": {},
   "outputs": [],
   "source": [
    "inertia = []\n",
    "K_range = range(1, 20)\n",
    "for k in K_range:\n",
    "    model = KMeans(n_cluster=k).fit(X)\n",
    "    inertia.append(model.inertia_)\n",
    "\n",
    "plt.plot(K_range, inertia)\n",
    "plt.xlabel('nombre deClusters')\n",
    "plt.ylabel('Cout du modele (Inertia)')"
   ]
  },
  {
   "cell_type": "markdown",
   "id": "e8504aad",
   "metadata": {},
   "source": [
    "## DBSCAN\n",
    "Density Based Spatial Clustering of Application With Noise"
   ]
  },
  {
   "cell_type": "markdown",
   "id": "ec9c2b85",
   "metadata": {},
   "source": [
    "## AglomerativeClustering\n",
    "Hierarchical Clustering"
   ]
  },
  {
   "cell_type": "markdown",
   "id": "33e3630b",
   "metadata": {},
   "source": [
    "## SpectralClustering"
   ]
  }
 ],
 "metadata": {
  "kernelspec": {
   "display_name": "base",
   "language": "python",
   "name": "python3"
  },
  "language_info": {
   "name": "python",
   "version": "3.12.4"
  }
 },
 "nbformat": 4,
 "nbformat_minor": 5
}
